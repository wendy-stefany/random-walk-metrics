{
 "cells": [
  {
   "cell_type": "markdown",
   "metadata": {},
   "source": [
    "# Assignment 2\n",
    "\n",
    "**Name:** Wendy Stefany Escamilla Valadez\n",
    "\n",
    "**e-mail:** wendy.escamilla@cucei.udg.mx"
   ]
  },
  {
   "cell_type": "markdown",
   "metadata": {},
   "source": [
    "______________________________"
   ]
  },
  {
   "cell_type": "markdown",
   "metadata": {},
   "source": [
    "# MODULES"
   ]
  },
  {
   "cell_type": "code",
   "execution_count": null,
   "metadata": {},
   "outputs": [],
   "source": []
  },
  {
   "cell_type": "markdown",
   "metadata": {},
   "source": [
    "____________________"
   ]
  },
  {
   "cell_type": "markdown",
   "metadata": {},
   "source": [
    "## Path length - (BM1 vs BM2 vs CRW)\n",
    "\n",
    "- Write a function that returns a **Brownian Motion (BM)** trajectory in **pandas** df.\n",
    "- Write a function that returns a **Correlated Random Walk (CRW)** trajectory in **pandas** df.\n",
    "- Write a function that returns the **path length** for a given trajectory.\n",
    "- **Compare** at least the **path length** of **three** trajectories as shown in the figure below.\n",
    "- Display the results using **plotly**."
   ]
  },
  {
   "cell_type": "code",
   "execution_count": null,
   "metadata": {},
   "outputs": [],
   "source": []
  },
  {
   "cell_type": "markdown",
   "metadata": {},
   "source": [
    "__________________________________"
   ]
  },
  {
   "cell_type": "markdown",
   "metadata": {},
   "source": [
    "## Mean Squared Displacement - (BM vs CRW)\n",
    "- Write a function that returns the **mean squared displacement** for a given trajectory.\n",
    "- Compare the **mean squared displacement** curves of at least two trajectories of\n",
    "different kinds, as shown in the figure below.\n",
    "- Display the results using **plotly**."
   ]
  },
  {
   "cell_type": "code",
   "execution_count": null,
   "metadata": {},
   "outputs": [],
   "source": []
  },
  {
   "cell_type": "markdown",
   "metadata": {},
   "source": [
    "__________________________________"
   ]
  },
  {
   "cell_type": "markdown",
   "metadata": {},
   "source": []
  },
  {
   "cell_type": "markdown",
   "metadata": {},
   "source": [
    "## Turning-angle Distribution - (source dist. vs observed dist.)\n",
    "- Consider two **CRW** trajectories with different **Cauchy coefficients**.\n",
    "- Write a **function** that returns the **turning angles** for a given trajectory.\n",
    "- Compare the observed distribution (**histogram**) to the source distribution (**curve**) for\n",
    "both trajectories, as shown in the figure below.\n",
    "- Display the results using **plotly**."
   ]
  },
  {
   "cell_type": "code",
   "execution_count": null,
   "metadata": {},
   "outputs": [],
   "source": []
  },
  {
   "cell_type": "markdown",
   "metadata": {},
   "source": [
    "________________________________________"
   ]
  },
  {
   "cell_type": "markdown",
   "metadata": {},
   "source": [
    "## Step-length Distribution - (source dist. vs observed dist.)\n",
    "- Write a function that returns a **Lévy Walk (LW)** trajectory in **pandas** df.\n",
    "- Consider two **LW** trajectories with different **alpha coefficients**.\n",
    "- Write a function that restaurants the **step lengths** for a given trajectory.\n",
    "- Compare the observed distribution (**histogram**) to the source distribution (**curve**) for\n",
    "both trajectories, as shown in the figure below.\n",
    "- Display the results using **plotly**."
   ]
  },
  {
   "cell_type": "code",
   "execution_count": null,
   "metadata": {},
   "outputs": [],
   "source": []
  }
 ],
 "metadata": {
  "kernelspec": {
   "display_name": "Python 3",
   "language": "python",
   "name": "python3"
  },
  "language_info": {
   "codemirror_mode": {
    "name": "ipython",
    "version": 3
   },
   "file_extension": ".py",
   "mimetype": "text/x-python",
   "name": "python",
   "nbconvert_exporter": "python",
   "pygments_lexer": "ipython3",
   "version": "3.11.8"
  }
 },
 "nbformat": 4,
 "nbformat_minor": 2
}
